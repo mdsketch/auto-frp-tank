{
 "cells": [
  {
   "cell_type": "code",
   "execution_count": 4,
   "metadata": {},
   "outputs": [
    {
     "ename": "ImportError",
     "evalue": "Could not import c:\\Users\\fanta\\Documents\\Python\\test.ipynb for ipynb.fs.full.test: incorrect version or language",
     "output_type": "error",
     "traceback": [
      "\u001b[1;31m---------------------------------------------------------------------------\u001b[0m",
      "\u001b[1;31mImportError\u001b[0m                               Traceback (most recent call last)",
      "Cell \u001b[1;32mIn [4], line 1\u001b[0m\n\u001b[1;32m----> 1\u001b[0m \u001b[39mfrom\u001b[39;00m \u001b[39mipynb\u001b[39;00m\u001b[39m.\u001b[39;00m\u001b[39mfs\u001b[39;00m\u001b[39m.\u001b[39;00m\u001b[39mfull\u001b[39;00m\u001b[39m.\u001b[39;00m\u001b[39mtest\u001b[39;00m \u001b[39mimport\u001b[39;00m form\n\u001b[0;32m      3\u001b[0m \u001b[39m#def form(mds,p,r,s,f):\u001b[39;00m\n\u001b[0;32m      4\u001b[0m     \u001b[39m#return (0.5*mds*p*r)/(s/f)\u001b[39;00m\n\u001b[0;32m      6\u001b[0m out\u001b[39m=\u001b[39mform(\u001b[39m1\u001b[39m,\u001b[39m2\u001b[39m,\u001b[39m3\u001b[39m,\u001b[39m4\u001b[39m,\u001b[39m5\u001b[39m)\n",
      "File \u001b[1;32m~\\AppData\\Local\\Packages\\PythonSoftwareFoundation.Python.3.10_qbz5n2kfra8p0\\LocalCache\\local-packages\\Python310\\site-packages\\ipynb\\fs\\full\\__init__.py:39\u001b[0m, in \u001b[0;36mFullLoader.get_code\u001b[1;34m(self, fullname)\u001b[0m\n\u001b[0;32m     32\u001b[0m             \u001b[39mraise\u001b[39;00m \u001b[39mImportError\u001b[39;00m(\u001b[39m'\u001b[39m\u001b[39mCould not import \u001b[39m\u001b[39m{path}\u001b[39;00m\u001b[39m for \u001b[39m\u001b[39m{fn}\u001b[39;00m\u001b[39m: not a valid ipynb file\u001b[39m\u001b[39m'\u001b[39m\u001b[39m.\u001b[39mformat(\n\u001b[0;32m     33\u001b[0m                 path\u001b[39m=\u001b[39m\u001b[39mself\u001b[39m\u001b[39m.\u001b[39mpath,\n\u001b[0;32m     34\u001b[0m                 fn\u001b[39m=\u001b[39mfullname\n\u001b[0;32m     35\u001b[0m             ))\n\u001b[0;32m     36\u001b[0m         \u001b[39mif\u001b[39;00m \u001b[39mnot\u001b[39;00m validate_nb(nb):\n\u001b[0;32m     37\u001b[0m             \u001b[39m# This is when it isn't the appropriate\u001b[39;00m\n\u001b[0;32m     38\u001b[0m             \u001b[39m# nbformet version or language\u001b[39;00m\n\u001b[1;32m---> 39\u001b[0m             \u001b[39mraise\u001b[39;00m \u001b[39mImportError\u001b[39;00m(\u001b[39m'\u001b[39m\u001b[39mCould not import \u001b[39m\u001b[39m{path}\u001b[39;00m\u001b[39m for \u001b[39m\u001b[39m{fn}\u001b[39;00m\u001b[39m: incorrect version or language\u001b[39m\u001b[39m'\u001b[39m\u001b[39m.\u001b[39mformat(\n\u001b[0;32m     40\u001b[0m                 path\u001b[39m=\u001b[39m\u001b[39mself\u001b[39m\u001b[39m.\u001b[39mpath,\n\u001b[0;32m     41\u001b[0m                 fn\u001b[39m=\u001b[39mfullname\n\u001b[0;32m     42\u001b[0m             ))\n\u001b[0;32m     43\u001b[0m         \u001b[39mreturn\u001b[39;00m \u001b[39mself\u001b[39m\u001b[39m.\u001b[39msource_to_code(code_from_ipynb(nb), \u001b[39mself\u001b[39m\u001b[39m.\u001b[39mpath)\n\u001b[0;32m     44\u001b[0m \u001b[39melse\u001b[39;00m:\n",
      "\u001b[1;31mImportError\u001b[0m: Could not import c:\\Users\\fanta\\Documents\\Python\\test.ipynb for ipynb.fs.full.test: incorrect version or language"
     ]
    }
   ],
   "source": [
    "from ipynb.fs.full.form import form\n",
    "\n",
    "#def form(mds,p,r,s,f):\n",
    "    #return (0.5*mds*p*r)/(s/f)\n",
    "\n",
    "out=form(1,2,3,4,5)\n",
    "out\n",
    "\n",
    "height = 1*2/3\n",
    "height\n",
    "\n",
    "print(out,height)"
   ]
  }
 ],
 "metadata": {
  "kernelspec": {
   "display_name": "Python 3.10.8 64-bit (microsoft store)",
   "language": "python",
   "name": "python3"
  },
  "language_info": {
   "codemirror_mode": {
    "name": "ipython",
    "version": 3
   },
   "file_extension": ".py",
   "mimetype": "text/x-python",
   "name": "python",
   "nbconvert_exporter": "python",
   "pygments_lexer": "ipython3",
   "version": "3.10.8"
  },
  "orig_nbformat": 4,
  "vscode": {
   "interpreter": {
    "hash": "3891c18ad4bd561af455e5eee01f21c0fa730d6ad721fd04f1d39fa03528ec6b"
   }
  }
 },
 "nbformat": 4,
 "nbformat_minor": 2
}
