{
 "cells": [
  {
   "cell_type": "code",
   "execution_count": null,
   "metadata": {},
   "outputs": [],
   "source": [
    "def form(mds,p,r,s,f):\n",
    "    return (0.5*mds*p*r)/(s/f)"
   ]
  }
 ],
 "metadata": {
  "kernelspec": {
   "display_name": "Python 3.10.8 64-bit (microsoft store)",
   "language": "python",
   "name": "python3"
  },
  "language_info": {
   "name": "python",
   "version": "3.10.8"
  },
  "orig_nbformat": 4,
  "vscode": {
   "interpreter": {
    "hash": "3891c18ad4bd561af455e5eee01f21c0fa730d6ad721fd04f1d39fa03528ec6b"
   }
  }
 },
 "nbformat": 4,
 "nbformat_minor": 2
}
